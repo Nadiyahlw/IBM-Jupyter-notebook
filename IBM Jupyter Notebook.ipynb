{
 "cells": [
  {
   "cell_type": "markdown",
   "id": "952d99e8",
   "metadata": {},
   "source": [
    "# My Jupyter Notebook on IBM Watson Studio"
   ]
  },
  {
   "cell_type": "markdown",
   "id": "d2f44553",
   "metadata": {},
   "source": [
    "# My name is Nadiyah Williams \n",
    "My desired field is in data science or cybersecurity."
   ]
  },
  {
   "cell_type": "markdown",
   "id": "c0266bb1",
   "metadata": {},
   "source": [
    "_I am interested in data science because it is a field I was first introduced to in my internship over the summer. I have seen all the possibilities and creativity data science can lead to and would love to learn more about the career so I can possibly be in data science in the future._"
   ]
  },
  {
   "cell_type": "markdown",
   "id": "7ec4005f",
   "metadata": {},
   "source": [
    "##### In block 5 my code will assign two variables a number and add those two numbers together and print out the sum below"
   ]
  },
  {
   "cell_type": "code",
   "execution_count": 15,
   "id": "d4840f0b",
   "metadata": {},
   "outputs": [
    {
     "data": {
      "text/plain": [
       "116.5"
      ]
     },
     "execution_count": 15,
     "metadata": {},
     "output_type": "execute_result"
    }
   ],
   "source": [
    "Age = 17;\n",
    "Weight == 99.5;\n",
    "Age + Weight"
   ]
  },
  {
   "cell_type": "markdown",
   "id": "9d65ec91",
   "metadata": {},
   "source": [
    "- Health\n",
    "- Food\n",
    "- Excercise \n",
    "***\n",
    "Excercise can help with aging and your weight.\n",
    "\n",
    "Candy, Soda, `Carrots`, Icecream"
   ]
  },
  {
   "cell_type": "code",
   "execution_count": null,
   "id": "bbdc71da",
   "metadata": {},
   "outputs": [],
   "source": []
  }
 ],
 "metadata": {
  "kernelspec": {
   "display_name": "Python 3 (ipykernel)",
   "language": "python",
   "name": "python3"
  },
  "language_info": {
   "codemirror_mode": {
    "name": "ipython",
    "version": 3
   },
   "file_extension": ".py",
   "mimetype": "text/x-python",
   "name": "python",
   "nbconvert_exporter": "python",
   "pygments_lexer": "ipython3",
   "version": "3.9.10"
  }
 },
 "nbformat": 4,
 "nbformat_minor": 5
}
